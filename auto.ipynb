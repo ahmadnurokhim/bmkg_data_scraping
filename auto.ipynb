{
 "cells": [
  {
   "cell_type": "code",
   "execution_count": 3,
   "metadata": {},
   "outputs": [],
   "source": [
    "from selenium import webdriver\n",
    "from selenium.webdriver.firefox.options import Options\n",
    "from selenium.webdriver.support.ui import WebDriverWait\n",
    "from selenium.webdriver.support import expected_conditions as EC\n",
    "from selenium.webdriver.common.by import By\n",
    "import pyautogui, time, pyperclip\n",
    "import PIL\n",
    "\n",
    "coptions = Options()\n",
    "coptions.headless = False\n",
    "browser = webdriver.Firefox()\n",
    "current_date = \"\"\n",
    "with open (\"account.txt\", 'r') as f:\n",
    "    text = f.readlines()\n",
    "    email_user = text[0].strip()\n",
    "    password_user = text[1]\n",
    "\n",
    "browser.get(\"https://dataonline.bmkg.go.id/dashboard_user\")\n",
    "email_input = WebDriverWait(browser, 30).until(EC.element_to_be_clickable((By.XPATH, \"//input[@placeholder='Email']\")))\n",
    "email_input.send_keys(email_user)\n",
    "pw_input = WebDriverWait(browser, 30).until(EC.element_to_be_clickable((By.XPATH, \"//input[@placeholder='Kata Sandi']\")))\n",
    "pw_input.send_keys(password_user)\n",
    "pyautogui.press(\"tab\")\n",
    "pyautogui.press(\"tab\")\n",
    "data_iklim = WebDriverWait(browser, 30).until(EC.element_to_be_clickable((By.XPATH, \"//a[contains(text(), 'Data Iklim')]\")))\n",
    "data_iklim.click()\n",
    "data_harian = WebDriverWait(browser, 30).until(EC.element_to_be_clickable((By.XPATH, \"//a[text()='Data Harian']\")))\n",
    "data_harian.click()\n",
    "pilih_opt = WebDriverWait(browser, 30).until(EC.element_to_be_clickable((By.XPATH, \"//span[@id='select2-type-r9-container']\")))\n",
    "pilih_opt.click()\n",
    "pyautogui.press(\"down\")\n",
    "pyautogui.press(\"enter\")\n",
    "temp_max = WebDriverWait(browser, 30).until(EC.element_to_be_clickable((By.XPATH, \"//input[@value='temp_max']\")))\n",
    "temp_max.click()\n",
    "temp_min = WebDriverWait(browser, 30).until(EC.element_to_be_clickable((By.XPATH, \"//input[@value='temp_min']\")))\n",
    "temp_min.click()\n",
    "temp_avg = WebDriverWait(browser, 30).until(EC.element_to_be_clickable((By.XPATH, \"//input[@value='temp_avg']\")))\n",
    "temp_avg.click()\n",
    "province = WebDriverWait(browser, 30).until(EC.element_to_be_clickable((By.XPATH, \"//span[@id='select2-idrefprovince-container']\")))\n",
    "province.click()\n",
    "input_province = WebDriverWait(browser, 30).until(EC.element_to_be_clickable((By.XPATH, \"//input[@class='select2-search__field']\")))\n",
    "input_province.send_keys(\"kalimantan timur\")\n",
    "pyautogui.press(\"enter\")\n",
    "regency = WebDriverWait(browser, 30).until(EC.element_to_be_clickable((By.XPATH, \"//span[@id='select2-idrefregency-container']\")))\n",
    "regency.click()\n",
    "input_regency = WebDriverWait(browser, 30).until(EC.element_to_be_clickable((By.XPATH, \"//input[@class='select2-search__field']\")))\n",
    "input_regency.send_keys(\"samarinda\")\n",
    "pyautogui.press(\"enter\")\n",
    "station = WebDriverWait(browser, 30).until(EC.element_to_be_clickable((By.XPATH, \"//span[@id='select2-station-name-de-container']\")))\n",
    "station.click()\n",
    "time.sleep(0.2)\n",
    "pyautogui.press(\"down\")\n",
    "pyautogui.press(\"enter\")\n",
    "from_date = WebDriverWait(browser, 30).until(EC.element_to_be_clickable((By.XPATH, \"//*[@id='from']\")))\n",
    "from_date.click()\n",
    "from_date.send_keys(\"06-05-2010\")\n",
    "to_date = WebDriverWait(browser, 30).until(EC.element_to_be_clickable((By.XPATH, \"//*[@id='to']\")))\n",
    "to_date.click()\n",
    "to_date.send_keys(\"06-05-2010\")\n",
    "\n",
    "# pyautogui.press(\"enter\")\n",
    "# pyautogui.hotkey(\"ctrl\", \"a\")\n",
    "# pyautogui.hotkey(\"ctrl\", \"c\")\n",
    "# time.sleep(0.1)\n",
    "# current_date = str(pyperclip.paste())\n",
    "# print(current_date)\n",
    "# pyautogui.press(\"tab\")\n",
    "# pyautogui.press(\"space\")\n",
    "# review_1 = WebDriverWait(browser, 30).until(EC.element_to_be_clickable((By.XPATH, \"//*[@id='form-feedback']/div[1]/div/div[1]/ul/a[5]/i\")))\n",
    "# browser.execute_script(\"arguments[0].click();\", review_1)\n",
    "# review_2 = WebDriverWait(browser, 30).until(EC.element_to_be_clickable((By.XPATH, \"//*[@id='form-feedback']/div[2]/div/div[1]/ul/a[5]/i\")))\n",
    "# browser.execute_script(\"arguments[0].click();\", review_2)\n",
    "# review_3 = WebDriverWait(browser, 30).until(EC.element_to_be_clickable((By.XPATH, \"//*[@id='form-feedback']/div[3]/div/div[1]/ul/a[5]/i\")))\n",
    "# browser.execute_script(\"arguments[0].click();\", review_3)\n",
    "# review_4 = WebDriverWait(browser, 30).until(EC.element_to_be_clickable((By.XPATH, \"//*[@id='form-feedback']/div[4]/div/div[1]/ul/a[5]/i\")))\n",
    "# browser.execute_script(\"arguments[0].click();\", review_4)\n",
    "# pyautogui.press(\"tab\")\n",
    "# pyautogui.press(\"tab\")\n",
    "# pyautogui.press(\"space\")\n",
    "# time.sleep(0.5)\n",
    "# pyautogui.press(\"tab\")\n",
    "# pyautogui.press(\"space\")\n",
    "\n"
   ]
  },
  {
   "cell_type": "code",
   "execution_count": 9,
   "metadata": {},
   "outputs": [
    {
     "name": "stdout",
     "output_type": "stream",
     "text": [
      "nurokhima20@gmail.com\n"
     ]
    }
   ],
   "source": []
  }
 ],
 "metadata": {
  "kernelspec": {
   "display_name": "Python 3.10.6 64-bit",
   "language": "python",
   "name": "python3"
  },
  "language_info": {
   "codemirror_mode": {
    "name": "ipython",
    "version": 3
   },
   "file_extension": ".py",
   "mimetype": "text/x-python",
   "name": "python",
   "nbconvert_exporter": "python",
   "pygments_lexer": "ipython3",
   "version": "3.10.6"
  },
  "orig_nbformat": 4,
  "vscode": {
   "interpreter": {
    "hash": "26de051ba29f2982a8de78e945f0abaf191376122a1563185a90213a26c5da77"
   }
  }
 },
 "nbformat": 4,
 "nbformat_minor": 2
}
